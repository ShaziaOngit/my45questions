{
  "nbformat": 4,
  "nbformat_minor": 0,
  "metadata": {
    "colab": {
      "provenance": []
    },
    "kernelspec": {
      "name": "python3",
      "display_name": "Python 3"
    },
    "language_info": {
      "name": "python"
    }
  },
  "cells": [
    {
      "cell_type": "code",
      "execution_count": null,
      "metadata": {
        "colab": {
          "base_uri": "https://localhost:8080/"
        },
        "id": "JcBtxJqYFQB_",
        "outputId": "88d0c91b-0fc1-4df0-8dd3-9ce04e127825"
      },
      "outputs": [
        {
          "output_type": "stream",
          "name": "stdout",
          "text": [
            "hello world\n"
          ]
        }
      ],
      "source": [
        "print('hello world')"
      ]
    },
    {
      "cell_type": "markdown",
      "source": [
        "#Hello World\n",
        "##Hello World\n",
        "**Hello World**\n",
        "\n",
        "*Hello World*\n",
        "\n",
        "1.   List item\n",
        "\n",
        "*   List item:\n",
        "*   List item\n",
        "\n",
        "\n",
        "2.   List item\n",
        "\n"
      ],
      "metadata": {
        "id": "rk2d3b-ZGN_w"
      }
    }
  ]
}