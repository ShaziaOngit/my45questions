{
  "nbformat": 4,
  "nbformat_minor": 0,
  "metadata": {
    "colab": {
      "provenance": []
    },
    "kernelspec": {
      "name": "python3",
      "display_name": "Python 3"
    },
    "language_info": {
      "name": "python"
    }
  },
  "cells": [
    {
      "cell_type": "code",
      "execution_count": null,
      "metadata": {
        "id": "Lqqjl4U7AjLe"
      },
      "outputs": [],
      "source": [
        "# list  add and remove method\n",
        "a[\"a\",\"b\",\"c\",\"d\"]\n",
        "print (a)\n",
        "#a.append(\"d\")\n",
        "#print(a)"
      ]
    },
    {
      "cell_type": "code",
      "source": [],
      "metadata": {
        "id": "G-zCLxhUCXRC"
      },
      "execution_count": null,
      "outputs": []
    }
  ]
}